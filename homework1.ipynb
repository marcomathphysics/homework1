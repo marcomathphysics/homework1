{
 "cells": [
  {
   "cell_type": "markdown",
   "id": "ef7a84a9-62af-42a8-8534-87611094f96d",
   "metadata": {},
   "source": [
    "# Q1. Pandas version\n",
    "#### What's the version of Pandas that you installed?"
   ]
  },
  {
   "cell_type": "code",
   "execution_count": 81,
   "id": "0b1e25fe-4871-4e04-aa62-f48778c9d976",
   "metadata": {},
   "outputs": [
    {
     "data": {
      "text/plain": [
       "'2.2.2'"
      ]
     },
     "execution_count": 81,
     "metadata": {},
     "output_type": "execute_result"
    }
   ],
   "source": [
    "import pandas as pd\n",
    "pd.__version__\n"
   ]
  },
  {
   "cell_type": "markdown",
   "id": "efb86f10-e48d-4f10-9865-b1e6788bba61",
   "metadata": {},
   "source": [
    "# Q2. Records count\n",
    "#### How many records are in the dataset?"
   ]
  },
  {
   "cell_type": "code",
   "execution_count": 82,
   "id": "41052f57-d442-4d90-ba35-bf6edf82766c",
   "metadata": {},
   "outputs": [
    {
     "data": {
      "text/plain": [
       "(2160, 12)"
      ]
     },
     "execution_count": 82,
     "metadata": {},
     "output_type": "execute_result"
    }
   ],
   "source": [
    "df = pd.read_csv('laptops.txt', sep=',')\n",
    "\n",
    "df.shape"
   ]
  },
  {
   "cell_type": "markdown",
   "id": "443b5f16-634c-4553-b14a-18ae30155934",
   "metadata": {},
   "source": [
    "# Q3. Laptop brands\n",
    "#### How many laptop brands are presented in the dataset?"
   ]
  },
  {
   "cell_type": "code",
   "execution_count": 83,
   "id": "26f75ecd-ff4e-4cdf-b6b2-ed05fb559772",
   "metadata": {},
   "outputs": [
    {
     "data": {
      "text/plain": [
       "27"
      ]
     },
     "execution_count": 83,
     "metadata": {},
     "output_type": "execute_result"
    }
   ],
   "source": [
    "len(set(df[\"Brand\"].to_list()))"
   ]
  },
  {
   "cell_type": "markdown",
   "id": "aee9d1b1-8b9f-4a5b-a901-cdaea411dd3f",
   "metadata": {},
   "source": [
    "# Q4. Missing values\n",
    "#### How many columns in the dataset have missing values?"
   ]
  },
  {
   "cell_type": "code",
   "execution_count": 84,
   "id": "1d228f64-f40d-4762-a5d5-51c4dd004466",
   "metadata": {},
   "outputs": [
    {
     "name": "stdout",
     "output_type": "stream",
     "text": [
      "0\n",
      "0\n",
      "0\n",
      "0\n",
      "0\n",
      "0\n",
      "0\n",
      "42\n",
      "1371\n",
      "4\n",
      "0\n",
      "0\n"
     ]
    }
   ],
   "source": [
    "for x in df.columns.tolist():\n",
    "    print(df[x].isna().sum())"
   ]
  },
  {
   "cell_type": "markdown",
   "id": "97513b6f-d6bb-461e-82a9-382809fea685",
   "metadata": {},
   "source": [
    "# Q5. Maximum final price"
   ]
  },
  {
   "cell_type": "code",
   "execution_count": 85,
   "id": "0785c3c8-d45d-437f-8c2a-a7bf33601e86",
   "metadata": {},
   "outputs": [
    {
     "data": {
      "text/plain": [
       "3936.0"
      ]
     },
     "execution_count": 85,
     "metadata": {},
     "output_type": "execute_result"
    }
   ],
   "source": [
    "filtered_df = df[df['Brand'] == \"Dell\"]\n",
    "filtered_df[\"Final Price\"].max()"
   ]
  },
  {
   "cell_type": "markdown",
   "id": "1a7aa89a-761f-4944-8710-1620498de1bb",
   "metadata": {},
   "source": [
    "# Q6. Median value of Screen\n"
   ]
  },
  {
   "cell_type": "markdown",
   "id": "a5ff16c8-e340-414a-8ac3-d26eacdea2a3",
   "metadata": {},
   "source": [
    "#### 1. Find the median value of Screen column in the dataset.\n"
   ]
  },
  {
   "cell_type": "code",
   "execution_count": 86,
   "id": "287847e8-22bf-4966-9f4f-0cf9d7ee27be",
   "metadata": {},
   "outputs": [
    {
     "data": {
      "text/plain": [
       "15.6"
      ]
     },
     "execution_count": 86,
     "metadata": {},
     "output_type": "execute_result"
    }
   ],
   "source": [
    "df['Screen'].median()"
   ]
  },
  {
   "cell_type": "markdown",
   "id": "9b21e120-39e2-4c5c-a521-5b38984b8663",
   "metadata": {},
   "source": [
    "#### 2. Next, calculate the most frequent value of the same Screen column."
   ]
  },
  {
   "cell_type": "code",
   "execution_count": 87,
   "id": "74819b8f-39c0-4a21-a728-0c5c67b53d7b",
   "metadata": {},
   "outputs": [
    {
     "data": {
      "text/plain": [
       "15.6"
      ]
     },
     "execution_count": 87,
     "metadata": {},
     "output_type": "execute_result"
    }
   ],
   "source": [
    "df['Screen'].mode()[0]"
   ]
  },
  {
   "cell_type": "markdown",
   "id": "4b8b6e9a-363b-43e7-a607-39a01cabe196",
   "metadata": {},
   "source": [
    "#### 3. Use fillna method to fill the missing values in Screen column with the most frequent value from the previous step."
   ]
  },
  {
   "cell_type": "code",
   "execution_count": 88,
   "id": "de587a0f-a66c-4d81-a7a7-c94495a9ae65",
   "metadata": {},
   "outputs": [],
   "source": [
    "newdf = df.fillna(15.6)"
   ]
  },
  {
   "cell_type": "markdown",
   "id": "8c6c54a2-4d8b-446a-bc6c-60b8809cdf03",
   "metadata": {},
   "source": [
    "#### 4. Now, calculate the median value of Screen once again.\n"
   ]
  },
  {
   "cell_type": "code",
   "execution_count": 89,
   "id": "e26ca482-9354-48ef-aa18-e679ff67b970",
   "metadata": {},
   "outputs": [
    {
     "data": {
      "text/plain": [
       "15.6"
      ]
     },
     "execution_count": 89,
     "metadata": {},
     "output_type": "execute_result"
    }
   ],
   "source": [
    "newdf[\"Screen\"].median()"
   ]
  },
  {
   "cell_type": "markdown",
   "id": "02f9c37c-0435-4006-9861-ed5b1d7e29ed",
   "metadata": {},
   "source": [
    "#### Has it changed?"
   ]
  },
  {
   "cell_type": "markdown",
   "id": "a0452476-bb3c-45eb-8280-04dec0ffbaef",
   "metadata": {},
   "source": [
    "#### No, it is the same"
   ]
  },
  {
   "cell_type": "markdown",
   "id": "7bd33628-2333-4663-a6cc-8d0161227345",
   "metadata": {},
   "source": [
    "# Q7. Sum of weights"
   ]
  },
  {
   "cell_type": "markdown",
   "id": "7a5df2f8-d271-40dc-8f27-79181af24643",
   "metadata": {},
   "source": [
    "#### 1. Select all the \"Innjoo\" laptops from the dataset."
   ]
  },
  {
   "cell_type": "code",
   "execution_count": 90,
   "id": "4af66d91-2ba0-4959-b44b-eed30feca56e",
   "metadata": {},
   "outputs": [],
   "source": [
    "filtered_df = df[df['Brand'] == \"Innjoo\"]\n"
   ]
  },
  {
   "cell_type": "markdown",
   "id": "4a544615-ae8c-4268-83a6-d1a29140db0f",
   "metadata": {},
   "source": [
    "#### 2. Select only columns RAM, Storage, Screen."
   ]
  },
  {
   "cell_type": "code",
   "execution_count": 91,
   "id": "261e7f31-3400-4ea3-961f-499d6e442406",
   "metadata": {},
   "outputs": [
    {
     "data": {
      "text/html": [
       "<div>\n",
       "<style scoped>\n",
       "    .dataframe tbody tr th:only-of-type {\n",
       "        vertical-align: middle;\n",
       "    }\n",
       "\n",
       "    .dataframe tbody tr th {\n",
       "        vertical-align: top;\n",
       "    }\n",
       "\n",
       "    .dataframe thead th {\n",
       "        text-align: right;\n",
       "    }\n",
       "</style>\n",
       "<table border=\"1\" class=\"dataframe\">\n",
       "  <thead>\n",
       "    <tr style=\"text-align: right;\">\n",
       "      <th></th>\n",
       "      <th>RAM</th>\n",
       "      <th>Storage</th>\n",
       "      <th>Screen</th>\n",
       "    </tr>\n",
       "  </thead>\n",
       "  <tbody>\n",
       "    <tr>\n",
       "      <th>1478</th>\n",
       "      <td>8</td>\n",
       "      <td>256</td>\n",
       "      <td>15.6</td>\n",
       "    </tr>\n",
       "    <tr>\n",
       "      <th>1479</th>\n",
       "      <td>8</td>\n",
       "      <td>512</td>\n",
       "      <td>15.6</td>\n",
       "    </tr>\n",
       "    <tr>\n",
       "      <th>1480</th>\n",
       "      <td>4</td>\n",
       "      <td>64</td>\n",
       "      <td>14.1</td>\n",
       "    </tr>\n",
       "    <tr>\n",
       "      <th>1481</th>\n",
       "      <td>6</td>\n",
       "      <td>64</td>\n",
       "      <td>14.1</td>\n",
       "    </tr>\n",
       "    <tr>\n",
       "      <th>1482</th>\n",
       "      <td>6</td>\n",
       "      <td>128</td>\n",
       "      <td>14.1</td>\n",
       "    </tr>\n",
       "    <tr>\n",
       "      <th>1483</th>\n",
       "      <td>6</td>\n",
       "      <td>128</td>\n",
       "      <td>14.1</td>\n",
       "    </tr>\n",
       "  </tbody>\n",
       "</table>\n",
       "</div>"
      ],
      "text/plain": [
       "      RAM  Storage  Screen\n",
       "1478    8      256    15.6\n",
       "1479    8      512    15.6\n",
       "1480    4       64    14.1\n",
       "1481    6       64    14.1\n",
       "1482    6      128    14.1\n",
       "1483    6      128    14.1"
      ]
     },
     "execution_count": 91,
     "metadata": {},
     "output_type": "execute_result"
    }
   ],
   "source": [
    "filtered2_df=filtered_df[[\"RAM\", \"Storage\", \"Screen\"]].copy()\n",
    "filtered2_df"
   ]
  },
  {
   "cell_type": "markdown",
   "id": "618d9445-fe0d-4aab-8006-4873666f326b",
   "metadata": {},
   "source": [
    "### 3. Get the underlying NumPy array. Let's call it X."
   ]
  },
  {
   "cell_type": "code",
   "execution_count": 92,
   "id": "1cc109b4-e381-4566-aea3-1d00832a1bdc",
   "metadata": {},
   "outputs": [
    {
     "data": {
      "text/plain": [
       "array([[  8. , 256. ,  15.6],\n",
       "       [  8. , 512. ,  15.6],\n",
       "       [  4. ,  64. ,  14.1],\n",
       "       [  6. ,  64. ,  14.1],\n",
       "       [  6. , 128. ,  14.1],\n",
       "       [  6. , 128. ,  14.1]])"
      ]
     },
     "execution_count": 92,
     "metadata": {},
     "output_type": "execute_result"
    }
   ],
   "source": [
    "X=filtered2_df.to_numpy()\n",
    "X"
   ]
  },
  {
   "cell_type": "markdown",
   "id": "e0776d3e-d2c7-4957-93dc-ca27fb8baf2b",
   "metadata": {},
   "source": [
    "#### 4. Compute matrix-matrix multiplication between the transpose of X and X. To get the transpose, use X.T. Let's call the result XTX.\n"
   ]
  },
  {
   "cell_type": "code",
   "execution_count": 93,
   "id": "cc19aeda-44db-4c72-ad37-dcd2570d584e",
   "metadata": {},
   "outputs": [
    {
     "data": {
      "text/plain": [
       "array([[2.52000e+02, 8.32000e+03, 5.59800e+02],\n",
       "       [8.32000e+03, 3.68640e+05, 1.73952e+04],\n",
       "       [5.59800e+02, 1.73952e+04, 1.28196e+03]])"
      ]
     },
     "execution_count": 93,
     "metadata": {},
     "output_type": "execute_result"
    }
   ],
   "source": [
    "import numpy as np\n",
    "XTX=X.T@X\n",
    "XTX"
   ]
  },
  {
   "cell_type": "markdown",
   "id": "22794f39-a0ac-41e2-8fb2-b3d144352517",
   "metadata": {},
   "source": [
    "#### 5. Compute the inverse of XTX."
   ]
  },
  {
   "cell_type": "code",
   "execution_count": 94,
   "id": "5acf0cb3-9fe7-4d29-911c-0df81fc907e5",
   "metadata": {},
   "outputs": [
    {
     "data": {
      "text/plain": [
       "array([[ 2.78025381e-01, -1.51791334e-03, -1.00809855e-01],\n",
       "       [-1.51791334e-03,  1.58286725e-05,  4.48052175e-04],\n",
       "       [-1.00809855e-01,  4.48052175e-04,  3.87214888e-02]])"
      ]
     },
     "execution_count": 94,
     "metadata": {},
     "output_type": "execute_result"
    }
   ],
   "source": [
    "inverse_matrix = np.linalg.inv(XTX)\n",
    "inverse_matrix"
   ]
  },
  {
   "cell_type": "markdown",
   "id": "f1307062-3f37-4130-ab46-6fe58e16517f",
   "metadata": {},
   "source": [
    "#### 6. Create an array y with values [1100, 1300, 800, 900, 1000, 1100].\n"
   ]
  },
  {
   "cell_type": "code",
   "execution_count": 95,
   "id": "4f0aa577-139d-4067-a80c-4b18149ed0ea",
   "metadata": {},
   "outputs": [],
   "source": [
    "y=np.array([1100, 1300, 800, 900, 1000, 1100])"
   ]
  },
  {
   "cell_type": "markdown",
   "id": "5e0a050e-8eac-45c5-86ec-992e64b4cce2",
   "metadata": {},
   "source": [
    "#### 7. Multiply the inverse of XTX with the transpose of X, and then multiply the result by y. Call the result w."
   ]
  },
  {
   "cell_type": "code",
   "execution_count": 96,
   "id": "05f64f0b-ca69-40f6-9fae-1fc5daee1fe1",
   "metadata": {},
   "outputs": [
    {
     "data": {
      "text/plain": [
       "array([45.58076606,  0.42783519, 45.29127938])"
      ]
     },
     "execution_count": 96,
     "metadata": {},
     "output_type": "execute_result"
    }
   ],
   "source": [
    "w=(inverse_matrix@X.T)@y\n",
    "w"
   ]
  },
  {
   "cell_type": "markdown",
   "id": "82cf8f0d-1503-4fdd-ab13-9124dd3d0016",
   "metadata": {},
   "source": [
    "#### 8. What's the sum of all the elements of the result?"
   ]
  },
  {
   "cell_type": "code",
   "execution_count": 97,
   "id": "ccf699c1-f3f7-47c5-bc9a-7b543b06fbfe",
   "metadata": {},
   "outputs": [
    {
     "data": {
      "text/plain": [
       "91.2998806299555"
      ]
     },
     "execution_count": 97,
     "metadata": {},
     "output_type": "execute_result"
    }
   ],
   "source": [
    "w.sum()"
   ]
  }
 ],
 "metadata": {
  "kernelspec": {
   "display_name": "Python 3 (ipykernel)",
   "language": "python",
   "name": "python3"
  },
  "language_info": {
   "codemirror_mode": {
    "name": "ipython",
    "version": 3
   },
   "file_extension": ".py",
   "mimetype": "text/x-python",
   "name": "python",
   "nbconvert_exporter": "python",
   "pygments_lexer": "ipython3",
   "version": "3.12.4"
  }
 },
 "nbformat": 4,
 "nbformat_minor": 5
}
